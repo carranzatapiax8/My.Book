{
 "cells": [
  {
   "cell_type": "markdown",
   "id": "84fdd633",
   "metadata": {},
   "source": [
    "                                                    "
   ]
  },
  {
   "cell_type": "code",
   "execution_count": 4,
   "id": "bb2ac7e6",
   "metadata": {},
   "outputs": [
    {
     "name": "stdout",
     "output_type": "stream",
     "text": [
      "¡Hola Mundo!\n"
     ]
    }
   ],
   "source": [
    "print (\"¡Hola Mundo!\")"
   ]
  },
  {
   "cell_type": "code",
   "execution_count": null,
   "id": "3dd20e96",
   "metadata": {},
   "outputs": [],
   "source": [
    "jupyter-book build My.book"
   ]
  },
  {
   "cell_type": "markdown",
   "id": "cbcfc66e",
   "metadata": {},
   "source": [
    "Hola mundo"
   ]
  }
 ],
 "metadata": {
  "kernelspec": {
   "display_name": "Python 3.12 (venv_jupyter)",
   "language": "python",
   "name": "venv_jupyter"
  },
  "language_info": {
   "codemirror_mode": {
    "name": "ipython",
    "version": 3
   },
   "file_extension": ".py",
   "mimetype": "text/x-python",
   "name": "python",
   "nbconvert_exporter": "python",
   "pygments_lexer": "ipython3",
   "version": "3.11.9"
  }
 },
 "nbformat": 4,
 "nbformat_minor": 5
}
